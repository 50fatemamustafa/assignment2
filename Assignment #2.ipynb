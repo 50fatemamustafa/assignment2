{
 "cells": [
  {
   "cell_type": "code",
   "execution_count": 14,
   "metadata": {},
   "outputs": [
    {
     "name": "stdout",
     "output_type": "stream",
     "text": [
      "Enter your percetage: 75\n",
      "A\n"
     ]
    }
   ],
   "source": [
    "per = float(input(\"Enter your percetage: \"))\n",
    "if per >=80 and per <= 100 :\n",
    "    print(\"A+\")\n",
    "    \n",
    "elif per >= 70 and per <= 79 :\n",
    "    print (\"A\")\n",
    "\n",
    "elif per >= 60 and per <= 69:\n",
    "    print(\"B\")\n",
    "    \n",
    "elif per >= 50 and per <=59:\n",
    "    print(\"C\")\n",
    "    \n",
    "elif per >= 40 and per <= 49:\n",
    "    print(\"D\")\n",
    "    \n",
    "elif per >= 33 and per <= 39:\n",
    "    print(\"E\")\n",
    "    \n",
    "else:\n",
    "    print(\"fail\")"
   ]
  },
  {
   "cell_type": "code",
   "execution_count": null,
   "metadata": {},
   "outputs": [],
   "source": []
  },
  {
   "cell_type": "code",
   "execution_count": null,
   "metadata": {},
   "outputs": [],
   "source": []
  },
  {
   "cell_type": "code",
   "execution_count": null,
   "metadata": {},
   "outputs": [],
   "source": []
  }
 ],
 "metadata": {
  "kernelspec": {
   "display_name": "Python 3",
   "language": "python",
   "name": "python3"
  },
  "language_info": {
   "codemirror_mode": {
    "name": "ipython",
    "version": 3
   },
   "file_extension": ".py",
   "mimetype": "text/x-python",
   "name": "python",
   "nbconvert_exporter": "python",
   "pygments_lexer": "ipython3",
   "version": "3.7.4"
  }
 },
 "nbformat": 4,
 "nbformat_minor": 2
}
